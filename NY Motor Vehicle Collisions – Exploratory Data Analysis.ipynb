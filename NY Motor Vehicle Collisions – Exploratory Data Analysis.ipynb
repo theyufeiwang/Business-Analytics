{
 "cells": [
  {
   "cell_type": "markdown",
   "id": "a6751b90-814a-4ee4-bd14-d108ba8ee8b6",
   "metadata": {},
   "source": [
    "# NY Motor Vehicle Collisions – Exploratory Data Analysis  \n",
    "In this notebook, we analyze New York’s Vehicular crash data available at https://data.cityofnewyork.us/Public-Safety/Motor-Vehicle-Collisions-Crashes/h9gi-nx95\n",
    "\n",
    "\n",
    "The data contains information from all police reported motor vehicle collisions in NYC. The information for this dataset is collated from the police report, called MV104-AN, which is required to be filled out for collisions where someone is injured or killed, or where there is at least $1000 worth of damage.\n",
    "\n",
    "Data is available from 2012-07-01 onwards, however for this analysis, we will limit ourselves to the period up to 2023-08-15.\n",
    "\n",
    "We find that this data contains over 2 million observations, which allows us to explore several aspects of vehicle crashes in NY's boroughs.\n",
    "\n",
    "The data dictionary for the data is also available at the URL above.\n",
    "\n",
    "First, we perform unstructured exploration of the data, and then try to answer the following questions:\n",
    "\n",
    "- We look for which borough has had the maximum number of crashes reported since 2012.\n",
    "\n",
    "- We relate the number of crashes to to the borough's population to find out which borough has the maximum number of crashes for every 100,000 people. Even though the data does not have this information, we can combine the crash data with the population estimates for the boroughs also available from the City of New York's website (https://data.cityofnewyork.us/City-Government/New-York-City-Population-by-Borough-1950-2040/xywu-7bv9)\n",
    "\n",
    "| Borough | Population |\n",
    "| --- | --- |\n",
    "| Bronx | 1446788 |\n",
    "| Brooklyn | 2648452 |\n",
    "| Manhattan | 1638281 |\n",
    "| Queens | 2330295 |\n",
    "| Staten Island | 487155 |  \n",
    "\n",
    "  \n",
    "- We look for the leading cause of crashes\n",
    "\n",
    "- We also look for the top-3 causes of crashes, and try to calculate what proportion of all crashes are caused by these top-3 causes.\n",
    "\n",
    "- We then look to some of the more serious implications of crashes by examining how many accidents involved at least one fatality.\n",
    "\n",
    "- We then compute, on average, out of every 1000 accidents, how many have resulted in at least one person dead.\n",
    "\n",
    "- We also look for missing data and try to compute the proportion of accidents in the data that do not have a Borough code.\n",
    "\n",
    "- The fields 'VEHICLE TYPE CODE 1' and 'VEHICLE TYPE CODE 2' represent the first two vehicles involved in the accident.  We look for which combinations of vehicles have the most number of accidents.\n"
   ]
  },
  {
   "cell_type": "code",
   "execution_count": 5,
   "id": "b8fd8006-87e9-45bd-8c64-ec00586c86bb",
   "metadata": {},
   "outputs": [],
   "source": [
    "import pandas as pd\n",
    "import numpy as np\n",
    "import seaborn as sns\n",
    "import os\n",
    "import matplotlib.pyplot as plt\n",
    "import phik\n",
    "from IPython.display import Markdown as md"
   ]
  },
  {
   "cell_type": "code",
   "execution_count": 7,
   "id": "e47b0103-4007-49a0-a423-d44229d5e1bc",
   "metadata": {},
   "outputs": [
    {
     "data": {
      "text/html": [
       "<div>\n",
       "<style scoped>\n",
       "    .dataframe tbody tr th:only-of-type {\n",
       "        vertical-align: middle;\n",
       "    }\n",
       "\n",
       "    .dataframe tbody tr th {\n",
       "        vertical-align: top;\n",
       "    }\n",
       "\n",
       "    .dataframe thead th {\n",
       "        text-align: right;\n",
       "    }\n",
       "</style>\n",
       "<table border=\"1\" class=\"dataframe\">\n",
       "  <thead>\n",
       "    <tr style=\"text-align: right;\">\n",
       "      <th></th>\n",
       "      <th>CRASH DATE_CRASH TIME</th>\n",
       "      <th>BOROUGH</th>\n",
       "      <th>ZIP CODE</th>\n",
       "      <th>LATITUDE</th>\n",
       "      <th>LONGITUDE</th>\n",
       "      <th>LOCATION</th>\n",
       "      <th>ON STREET NAME</th>\n",
       "      <th>CROSS STREET NAME</th>\n",
       "      <th>OFF STREET NAME</th>\n",
       "      <th>NUMBER OF PERSONS INJURED</th>\n",
       "      <th>...</th>\n",
       "      <th>CONTRIBUTING FACTOR VEHICLE 2</th>\n",
       "      <th>CONTRIBUTING FACTOR VEHICLE 3</th>\n",
       "      <th>CONTRIBUTING FACTOR VEHICLE 4</th>\n",
       "      <th>CONTRIBUTING FACTOR VEHICLE 5</th>\n",
       "      <th>COLLISION_ID</th>\n",
       "      <th>VEHICLE TYPE CODE 1</th>\n",
       "      <th>VEHICLE TYPE CODE 2</th>\n",
       "      <th>VEHICLE TYPE CODE 3</th>\n",
       "      <th>VEHICLE TYPE CODE 4</th>\n",
       "      <th>VEHICLE TYPE CODE 5</th>\n",
       "    </tr>\n",
       "  </thead>\n",
       "  <tbody>\n",
       "    <tr>\n",
       "      <th>0</th>\n",
       "      <td>2021-09-11 02:39:00</td>\n",
       "      <td>NaN</td>\n",
       "      <td>NaN</td>\n",
       "      <td>NaN</td>\n",
       "      <td>NaN</td>\n",
       "      <td>NaN</td>\n",
       "      <td>WHITESTONE EXPRESSWAY</td>\n",
       "      <td>20 AVENUE</td>\n",
       "      <td>NaN</td>\n",
       "      <td>2.0</td>\n",
       "      <td>...</td>\n",
       "      <td>Unspecified</td>\n",
       "      <td>NaN</td>\n",
       "      <td>NaN</td>\n",
       "      <td>NaN</td>\n",
       "      <td>4455765</td>\n",
       "      <td>Sedan</td>\n",
       "      <td>Sedan</td>\n",
       "      <td>NaN</td>\n",
       "      <td>NaN</td>\n",
       "      <td>NaN</td>\n",
       "    </tr>\n",
       "    <tr>\n",
       "      <th>1</th>\n",
       "      <td>2022-03-26 11:45:00</td>\n",
       "      <td>NaN</td>\n",
       "      <td>NaN</td>\n",
       "      <td>NaN</td>\n",
       "      <td>NaN</td>\n",
       "      <td>NaN</td>\n",
       "      <td>QUEENSBORO BRIDGE UPPER</td>\n",
       "      <td>NaN</td>\n",
       "      <td>NaN</td>\n",
       "      <td>1.0</td>\n",
       "      <td>...</td>\n",
       "      <td>NaN</td>\n",
       "      <td>NaN</td>\n",
       "      <td>NaN</td>\n",
       "      <td>NaN</td>\n",
       "      <td>4513547</td>\n",
       "      <td>Sedan</td>\n",
       "      <td>NaN</td>\n",
       "      <td>NaN</td>\n",
       "      <td>NaN</td>\n",
       "      <td>NaN</td>\n",
       "    </tr>\n",
       "    <tr>\n",
       "      <th>2</th>\n",
       "      <td>2022-06-29 06:55:00</td>\n",
       "      <td>NaN</td>\n",
       "      <td>NaN</td>\n",
       "      <td>NaN</td>\n",
       "      <td>NaN</td>\n",
       "      <td>NaN</td>\n",
       "      <td>THROGS NECK BRIDGE</td>\n",
       "      <td>NaN</td>\n",
       "      <td>NaN</td>\n",
       "      <td>0.0</td>\n",
       "      <td>...</td>\n",
       "      <td>Unspecified</td>\n",
       "      <td>NaN</td>\n",
       "      <td>NaN</td>\n",
       "      <td>NaN</td>\n",
       "      <td>4541903</td>\n",
       "      <td>Sedan</td>\n",
       "      <td>Pick-up Truck</td>\n",
       "      <td>NaN</td>\n",
       "      <td>NaN</td>\n",
       "      <td>NaN</td>\n",
       "    </tr>\n",
       "    <tr>\n",
       "      <th>3</th>\n",
       "      <td>2021-09-11 09:35:00</td>\n",
       "      <td>BROOKLYN</td>\n",
       "      <td>11208.0</td>\n",
       "      <td>40.667202</td>\n",
       "      <td>-73.866500</td>\n",
       "      <td>(40.667202, -73.8665)</td>\n",
       "      <td>NaN</td>\n",
       "      <td>NaN</td>\n",
       "      <td>1211      LORING AVENUE</td>\n",
       "      <td>0.0</td>\n",
       "      <td>...</td>\n",
       "      <td>NaN</td>\n",
       "      <td>NaN</td>\n",
       "      <td>NaN</td>\n",
       "      <td>NaN</td>\n",
       "      <td>4456314</td>\n",
       "      <td>Sedan</td>\n",
       "      <td>NaN</td>\n",
       "      <td>NaN</td>\n",
       "      <td>NaN</td>\n",
       "      <td>NaN</td>\n",
       "    </tr>\n",
       "    <tr>\n",
       "      <th>4</th>\n",
       "      <td>2021-12-14 08:13:00</td>\n",
       "      <td>BROOKLYN</td>\n",
       "      <td>11233.0</td>\n",
       "      <td>40.683304</td>\n",
       "      <td>-73.917274</td>\n",
       "      <td>(40.683304, -73.917274)</td>\n",
       "      <td>SARATOGA AVENUE</td>\n",
       "      <td>DECATUR STREET</td>\n",
       "      <td>NaN</td>\n",
       "      <td>0.0</td>\n",
       "      <td>...</td>\n",
       "      <td>NaN</td>\n",
       "      <td>NaN</td>\n",
       "      <td>NaN</td>\n",
       "      <td>NaN</td>\n",
       "      <td>4486609</td>\n",
       "      <td>NaN</td>\n",
       "      <td>NaN</td>\n",
       "      <td>NaN</td>\n",
       "      <td>NaN</td>\n",
       "      <td>NaN</td>\n",
       "    </tr>\n",
       "    <tr>\n",
       "      <th>...</th>\n",
       "      <td>...</td>\n",
       "      <td>...</td>\n",
       "      <td>...</td>\n",
       "      <td>...</td>\n",
       "      <td>...</td>\n",
       "      <td>...</td>\n",
       "      <td>...</td>\n",
       "      <td>...</td>\n",
       "      <td>...</td>\n",
       "      <td>...</td>\n",
       "      <td>...</td>\n",
       "      <td>...</td>\n",
       "      <td>...</td>\n",
       "      <td>...</td>\n",
       "      <td>...</td>\n",
       "      <td>...</td>\n",
       "      <td>...</td>\n",
       "      <td>...</td>\n",
       "      <td>...</td>\n",
       "      <td>...</td>\n",
       "      <td>...</td>\n",
       "    </tr>\n",
       "    <tr>\n",
       "      <th>2018240</th>\n",
       "      <td>2023-07-03 18:05:00</td>\n",
       "      <td>NaN</td>\n",
       "      <td>NaN</td>\n",
       "      <td>40.866806</td>\n",
       "      <td>-73.931010</td>\n",
       "      <td>(40.866806, -73.93101)</td>\n",
       "      <td>RIVERSIDE DRIVE</td>\n",
       "      <td>NaN</td>\n",
       "      <td>NaN</td>\n",
       "      <td>0.0</td>\n",
       "      <td>...</td>\n",
       "      <td>Unspecified</td>\n",
       "      <td>NaN</td>\n",
       "      <td>NaN</td>\n",
       "      <td>NaN</td>\n",
       "      <td>4648110</td>\n",
       "      <td>Sedan</td>\n",
       "      <td>Sedan</td>\n",
       "      <td>NaN</td>\n",
       "      <td>NaN</td>\n",
       "      <td>NaN</td>\n",
       "    </tr>\n",
       "    <tr>\n",
       "      <th>2018241</th>\n",
       "      <td>2023-07-22 21:39:00</td>\n",
       "      <td>BRONX</td>\n",
       "      <td>10457.0</td>\n",
       "      <td>40.844177</td>\n",
       "      <td>-73.902920</td>\n",
       "      <td>(40.844177, -73.90292)</td>\n",
       "      <td>EAST 174 STREET</td>\n",
       "      <td>WEBSTER AVENUE</td>\n",
       "      <td>NaN</td>\n",
       "      <td>1.0</td>\n",
       "      <td>...</td>\n",
       "      <td>NaN</td>\n",
       "      <td>NaN</td>\n",
       "      <td>NaN</td>\n",
       "      <td>NaN</td>\n",
       "      <td>4648117</td>\n",
       "      <td>Sedan</td>\n",
       "      <td>NaN</td>\n",
       "      <td>NaN</td>\n",
       "      <td>NaN</td>\n",
       "      <td>NaN</td>\n",
       "    </tr>\n",
       "    <tr>\n",
       "      <th>2018242</th>\n",
       "      <td>2023-07-02 17:55:00</td>\n",
       "      <td>MANHATTAN</td>\n",
       "      <td>10006.0</td>\n",
       "      <td>40.711033</td>\n",
       "      <td>-74.014540</td>\n",
       "      <td>(40.711033, -74.01454)</td>\n",
       "      <td>WEST STREET</td>\n",
       "      <td>LIBERTY STREET</td>\n",
       "      <td>NaN</td>\n",
       "      <td>0.0</td>\n",
       "      <td>...</td>\n",
       "      <td>NaN</td>\n",
       "      <td>NaN</td>\n",
       "      <td>NaN</td>\n",
       "      <td>NaN</td>\n",
       "      <td>4648366</td>\n",
       "      <td>Taxi</td>\n",
       "      <td>NaN</td>\n",
       "      <td>NaN</td>\n",
       "      <td>NaN</td>\n",
       "      <td>NaN</td>\n",
       "    </tr>\n",
       "    <tr>\n",
       "      <th>2018243</th>\n",
       "      <td>2023-07-22 13:15:00</td>\n",
       "      <td>QUEENS</td>\n",
       "      <td>11433.0</td>\n",
       "      <td>40.691580</td>\n",
       "      <td>-73.793190</td>\n",
       "      <td>(40.69158, -73.79319)</td>\n",
       "      <td>110 AVENUE</td>\n",
       "      <td>157 STREET</td>\n",
       "      <td>NaN</td>\n",
       "      <td>1.0</td>\n",
       "      <td>...</td>\n",
       "      <td>Driver Inattention/Distraction</td>\n",
       "      <td>NaN</td>\n",
       "      <td>NaN</td>\n",
       "      <td>NaN</td>\n",
       "      <td>4648129</td>\n",
       "      <td>Station Wagon/Sport Utility Vehicle</td>\n",
       "      <td>E-Bike</td>\n",
       "      <td>NaN</td>\n",
       "      <td>NaN</td>\n",
       "      <td>NaN</td>\n",
       "    </tr>\n",
       "    <tr>\n",
       "      <th>2018244</th>\n",
       "      <td>2023-07-22 03:00:00</td>\n",
       "      <td>QUEENS</td>\n",
       "      <td>11433.0</td>\n",
       "      <td>40.700240</td>\n",
       "      <td>-73.792854</td>\n",
       "      <td>(40.70024, -73.792854)</td>\n",
       "      <td>SOUTH ROAD</td>\n",
       "      <td>164 STREET</td>\n",
       "      <td>NaN</td>\n",
       "      <td>0.0</td>\n",
       "      <td>...</td>\n",
       "      <td>NaN</td>\n",
       "      <td>NaN</td>\n",
       "      <td>NaN</td>\n",
       "      <td>NaN</td>\n",
       "      <td>4647913</td>\n",
       "      <td>Sedan</td>\n",
       "      <td>NaN</td>\n",
       "      <td>NaN</td>\n",
       "      <td>NaN</td>\n",
       "      <td>NaN</td>\n",
       "    </tr>\n",
       "  </tbody>\n",
       "</table>\n",
       "<p>2018245 rows × 28 columns</p>\n",
       "</div>"
      ],
      "text/plain": [
       "        CRASH DATE_CRASH TIME    BOROUGH ZIP CODE   LATITUDE  LONGITUDE  \\\n",
       "0         2021-09-11 02:39:00        NaN      NaN        NaN        NaN   \n",
       "1         2022-03-26 11:45:00        NaN      NaN        NaN        NaN   \n",
       "2         2022-06-29 06:55:00        NaN      NaN        NaN        NaN   \n",
       "3         2021-09-11 09:35:00   BROOKLYN  11208.0  40.667202 -73.866500   \n",
       "4         2021-12-14 08:13:00   BROOKLYN  11233.0  40.683304 -73.917274   \n",
       "...                       ...        ...      ...        ...        ...   \n",
       "2018240   2023-07-03 18:05:00        NaN      NaN  40.866806 -73.931010   \n",
       "2018241   2023-07-22 21:39:00      BRONX  10457.0  40.844177 -73.902920   \n",
       "2018242   2023-07-02 17:55:00  MANHATTAN  10006.0  40.711033 -74.014540   \n",
       "2018243   2023-07-22 13:15:00     QUEENS  11433.0  40.691580 -73.793190   \n",
       "2018244   2023-07-22 03:00:00     QUEENS  11433.0  40.700240 -73.792854   \n",
       "\n",
       "                        LOCATION           ON STREET NAME CROSS STREET NAME  \\\n",
       "0                            NaN    WHITESTONE EXPRESSWAY         20 AVENUE   \n",
       "1                            NaN  QUEENSBORO BRIDGE UPPER               NaN   \n",
       "2                            NaN       THROGS NECK BRIDGE               NaN   \n",
       "3          (40.667202, -73.8665)                      NaN               NaN   \n",
       "4        (40.683304, -73.917274)          SARATOGA AVENUE    DECATUR STREET   \n",
       "...                          ...                      ...               ...   \n",
       "2018240   (40.866806, -73.93101)          RIVERSIDE DRIVE               NaN   \n",
       "2018241   (40.844177, -73.90292)          EAST 174 STREET    WEBSTER AVENUE   \n",
       "2018242   (40.711033, -74.01454)              WEST STREET    LIBERTY STREET   \n",
       "2018243    (40.69158, -73.79319)               110 AVENUE        157 STREET   \n",
       "2018244   (40.70024, -73.792854)               SOUTH ROAD        164 STREET   \n",
       "\n",
       "                 OFF STREET NAME  NUMBER OF PERSONS INJURED  ...  \\\n",
       "0                            NaN                        2.0  ...   \n",
       "1                            NaN                        1.0  ...   \n",
       "2                            NaN                        0.0  ...   \n",
       "3        1211      LORING AVENUE                        0.0  ...   \n",
       "4                            NaN                        0.0  ...   \n",
       "...                          ...                        ...  ...   \n",
       "2018240                      NaN                        0.0  ...   \n",
       "2018241                      NaN                        1.0  ...   \n",
       "2018242                      NaN                        0.0  ...   \n",
       "2018243                      NaN                        1.0  ...   \n",
       "2018244                      NaN                        0.0  ...   \n",
       "\n",
       "          CONTRIBUTING FACTOR VEHICLE 2  CONTRIBUTING FACTOR VEHICLE 3  \\\n",
       "0                           Unspecified                            NaN   \n",
       "1                                   NaN                            NaN   \n",
       "2                           Unspecified                            NaN   \n",
       "3                                   NaN                            NaN   \n",
       "4                                   NaN                            NaN   \n",
       "...                                 ...                            ...   \n",
       "2018240                     Unspecified                            NaN   \n",
       "2018241                             NaN                            NaN   \n",
       "2018242                             NaN                            NaN   \n",
       "2018243  Driver Inattention/Distraction                            NaN   \n",
       "2018244                             NaN                            NaN   \n",
       "\n",
       "         CONTRIBUTING FACTOR VEHICLE 4  CONTRIBUTING FACTOR VEHICLE 5  \\\n",
       "0                                  NaN                            NaN   \n",
       "1                                  NaN                            NaN   \n",
       "2                                  NaN                            NaN   \n",
       "3                                  NaN                            NaN   \n",
       "4                                  NaN                            NaN   \n",
       "...                                ...                            ...   \n",
       "2018240                            NaN                            NaN   \n",
       "2018241                            NaN                            NaN   \n",
       "2018242                            NaN                            NaN   \n",
       "2018243                            NaN                            NaN   \n",
       "2018244                            NaN                            NaN   \n",
       "\n",
       "         COLLISION_ID                  VEHICLE TYPE CODE 1  \\\n",
       "0             4455765                                Sedan   \n",
       "1             4513547                                Sedan   \n",
       "2             4541903                                Sedan   \n",
       "3             4456314                                Sedan   \n",
       "4             4486609                                  NaN   \n",
       "...               ...                                  ...   \n",
       "2018240       4648110                                Sedan   \n",
       "2018241       4648117                                Sedan   \n",
       "2018242       4648366                                 Taxi   \n",
       "2018243       4648129  Station Wagon/Sport Utility Vehicle   \n",
       "2018244       4647913                                Sedan   \n",
       "\n",
       "         VEHICLE TYPE CODE 2 VEHICLE TYPE CODE 3 VEHICLE TYPE CODE 4  \\\n",
       "0                      Sedan                 NaN                 NaN   \n",
       "1                        NaN                 NaN                 NaN   \n",
       "2              Pick-up Truck                 NaN                 NaN   \n",
       "3                        NaN                 NaN                 NaN   \n",
       "4                        NaN                 NaN                 NaN   \n",
       "...                      ...                 ...                 ...   \n",
       "2018240                Sedan                 NaN                 NaN   \n",
       "2018241                  NaN                 NaN                 NaN   \n",
       "2018242                  NaN                 NaN                 NaN   \n",
       "2018243               E-Bike                 NaN                 NaN   \n",
       "2018244                  NaN                 NaN                 NaN   \n",
       "\n",
       "        VEHICLE TYPE CODE 5  \n",
       "0                       NaN  \n",
       "1                       NaN  \n",
       "2                       NaN  \n",
       "3                       NaN  \n",
       "4                       NaN  \n",
       "...                     ...  \n",
       "2018240                 NaN  \n",
       "2018241                 NaN  \n",
       "2018242                 NaN  \n",
       "2018243                 NaN  \n",
       "2018244                 NaN  \n",
       "\n",
       "[2018245 rows x 28 columns]"
      ]
     },
     "execution_count": 7,
     "metadata": {},
     "output_type": "execute_result"
    }
   ],
   "source": [
    "df = pd.read_pickle(r\"shared/Motor_Vehicle_Collisions_-_Crashes.pkl\")\n",
    "df"
   ]
  },
  {
   "cell_type": "markdown",
   "id": "4e4f02f0-fd20-4ec7-887a-b3bc10a7c074",
   "metadata": {},
   "source": [
    "## 1. Which borough has had the second highest total number of crashes reported since 2012?"
   ]
  },
  {
   "cell_type": "code",
   "execution_count": 21,
   "id": "4fdad6b7-7ecf-4a20-ac5a-58979f7dbd2e",
   "metadata": {},
   "outputs": [
    {
     "data": {
      "text/plain": [
       "'QUEENS'"
      ]
     },
     "execution_count": 21,
     "metadata": {},
     "output_type": "execute_result"
    }
   ],
   "source": [
    "# Count the number of crashes in each borough\n",
    "borough_crashes = df['BOROUGH'].value_counts()\n",
    "\n",
    "# Get the borough with the second highest total number of crashes\n",
    "second_highest_borough = borough_crashes.nlargest(2).index[-1]\n",
    "\n",
    "second_highest_borough"
   ]
  },
  {
   "cell_type": "markdown",
   "id": "e0157a48-83b8-44d9-991d-ec419debfa71",
   "metadata": {},
   "source": [
    "## 2. Considering the entire data set since July 2012, which borough has the most crashes for every 100,000 people?"
   ]
  },
  {
   "cell_type": "code",
   "execution_count": 22,
   "id": "dcc5a046-2ccb-4ffb-be8d-c2d20288a68e",
   "metadata": {},
   "outputs": [
    {
     "name": "stdout",
     "output_type": "stream",
     "text": [
      "MANHATTAN, with 19121.62810 crashes since July 2012 per 100k population\n"
     ]
    }
   ],
   "source": [
    "# Define the population for each borough\n",
    "population = pd.Series({\n",
    "    'BRONX': 1446788,\n",
    "    'BROOKLYN': 2648452,\n",
    "    'MANHATTAN': 1638281,\n",
    "    'QUEENS': 2330295,\n",
    "    'STATEN ISLAND': 487155\n",
    "})\n",
    "\n",
    "# Calculate the total number of crashes in each borough\n",
    "borough_crashes = df['BOROUGH'].value_counts()\n",
    "\n",
    "# Calculate the number of crashes per 100,000 people for each borough\n",
    "crashes_per_capita = (borough_crashes / population) * 100000\n",
    "\n",
    "# Get the borough with the most crashes per 100,000 people\n",
    "borough_most_crashes_per_capita = crashes_per_capita.idxmax()\n",
    "most_crashes = crashes_per_capita.max()\n",
    "\n",
    "print(f\"{borough_most_crashes_per_capita}, with {most_crashes:.5f} crashes since July 2012 per 100k population\")"
   ]
  },
  {
   "cell_type": "markdown",
   "id": "f6a29d89-9327-4a39-ba22-4a47da1879dd",
   "metadata": {},
   "source": [
    "## 3. For this dataset, what is the leading cause of crashes? What proportion of accidents are attributable to this cause?"
   ]
  },
  {
   "cell_type": "code",
   "execution_count": 23,
   "id": "4fd84401-2fde-4cd3-a2db-ac2cb567315b",
   "metadata": {},
   "outputs": [
    {
     "name": "stdout",
     "output_type": "stream",
     "text": [
      "The leading cause of crashes is Driver Inattention/Distraction, which is responsible for 30.27% of accidents.\n"
     ]
    }
   ],
   "source": [
    "# Remove rows where the contributing factor vehicle 1 is 'Unspecified'\n",
    "df_filtered = df[df['CONTRIBUTING FACTOR VEHICLE 1'] != 'Unspecified']\n",
    "\n",
    "# Count the number of crashes for each contributing factor\n",
    "factor_counts = df_filtered['CONTRIBUTING FACTOR VEHICLE 1'].value_counts()\n",
    "\n",
    "# Get the contributing factor with the highest total number of crashes\n",
    "leading_cause = factor_counts.idxmax()\n",
    "leading_cause_count = factor_counts.max()\n",
    "\n",
    "# Calculate the proportion of accidents attributable to this cause\n",
    "total_accidents = len(df_filtered)\n",
    "proportion = (leading_cause_count / total_accidents) * 100\n",
    "\n",
    "print(f\"The leading cause of crashes is {leading_cause}, which is responsible for {proportion:.2f}% of accidents.\")"
   ]
  },
  {
   "cell_type": "markdown",
   "id": "76fc9ff6-41b7-4b9b-8ffe-3c96cfcc3ffb",
   "metadata": {},
   "source": [
    "## 4. Continuing from the previous question - the top 5 causes of crashes account for what proportion of total crashes?"
   ]
  },
  {
   "cell_type": "code",
   "execution_count": 24,
   "id": "18024503-4ce2-4118-ad8b-b964d6214994",
   "metadata": {},
   "outputs": [
    {
     "name": "stdout",
     "output_type": "stream",
     "text": [
      "The top 5 causes of crashes account for 57.76% of total crashes.\n"
     ]
    }
   ],
   "source": [
    "# Get the counts of the top 5 contributing factors\n",
    "top_5_factors_counts = factor_counts.nlargest(5)\n",
    "\n",
    "# Calculate the total number of crashes for the top 5 contributing factors\n",
    "top_5_total = top_5_factors_counts.sum()\n",
    "\n",
    "# Calculate the proportion of total crashes accounted for by the top 5 contributing factors\n",
    "proportion_top_5 = (top_5_total / total_accidents) * 100\n",
    "\n",
    "print(f\"The top 5 causes of crashes account for {proportion_top_5:.2f}% of total crashes.\")"
   ]
  },
  {
   "cell_type": "markdown",
   "id": "fbe130e9-29c5-4419-ae5d-57eee8dec9ec",
   "metadata": {},
   "source": [
    "## 5. Considering the entire data since 2012, what is the total count of accidents that involved two or more fatalities?  "
   ]
  },
  {
   "cell_type": "code",
   "execution_count": 25,
   "id": "8a6c60b6-3f35-4309-9829-3febd01e54df",
   "metadata": {},
   "outputs": [
    {
     "data": {
      "text/plain": [
       "88"
      ]
     },
     "execution_count": 25,
     "metadata": {},
     "output_type": "execute_result"
    }
   ],
   "source": [
    "# Replace missing values in the 'NUMBER OF PERSONS KILLED' column with zero\n",
    "df['NUMBER OF PERSONS KILLED'] = df['NUMBER OF PERSONS KILLED'].fillna(0)\n",
    "\n",
    "# Select only the rows where two or more people were killed\n",
    "fatal_accidents = df[df['NUMBER OF PERSONS KILLED'] >= 2]\n",
    "\n",
    "# Get the total count of these accidents\n",
    "total_fatal_accidents = len(fatal_accidents)\n",
    "\n",
    "total_fatal_accidents"
   ]
  },
  {
   "cell_type": "markdown",
   "id": "6db05016-c6ac-43a1-b24f-ca459f33a95d",
   "metadata": {},
   "source": [
    "## 6. On average, for every 1000 accidents, how many have resulted in at least one person dead?"
   ]
  },
  {
   "cell_type": "code",
   "execution_count": 26,
   "id": "33de45ac-3a4f-43fa-9031-dd36adba1d9e",
   "metadata": {},
   "outputs": [
    {
     "data": {
      "text/plain": [
       "1.3893258747079764"
      ]
     },
     "execution_count": 26,
     "metadata": {},
     "output_type": "execute_result"
    }
   ],
   "source": [
    "# Select only the rows where at least one person was killed\n",
    "fatal_accidents = df[df['NUMBER OF PERSONS KILLED'] >= 1]\n",
    "\n",
    "# Get the number of these accidents\n",
    "num_fatal_accidents = len(fatal_accidents)\n",
    "\n",
    "# Get the total number of accidents\n",
    "total_accidents = len(df)\n",
    "\n",
    "# Calculate the average number of fatal accidents per 1000 accidents\n",
    "average_fatal_accidents = (num_fatal_accidents / total_accidents) * 1000\n",
    "\n",
    "average_fatal_accidents"
   ]
  },
  {
   "cell_type": "markdown",
   "id": "2be57f50-00c0-4a48-bcae-093ca308f049",
   "metadata": {},
   "source": [
    "## 7. What proportion of accidents in the data do not have a Cross Street Name?"
   ]
  },
  {
   "cell_type": "code",
   "execution_count": 27,
   "id": "78044f87-9269-4f85-bf20-7bf1c3680547",
   "metadata": {},
   "outputs": [
    {
     "data": {
      "text/plain": [
       "37.4350983156158"
      ]
     },
     "execution_count": 27,
     "metadata": {},
     "output_type": "execute_result"
    }
   ],
   "source": [
    "# Check for missing values in the 'CROSS STREET NAME' column\n",
    "missing_cross_street_name = df['CROSS STREET NAME'].isna()\n",
    "\n",
    "# Get the total number of accidents that do not have a Cross Street Name\n",
    "num_missing_cross_street_name = missing_cross_street_name.sum()\n",
    "\n",
    "# Get the total number of accidents\n",
    "total_accidents = len(df)\n",
    "\n",
    "# Calculate the proportion of accidents that do not have a Cross Street Name\n",
    "proportion_missing_cross_street_name = (num_missing_cross_street_name / total_accidents) * 100\n",
    "\n",
    "proportion_missing_cross_street_name"
   ]
  },
  {
   "cell_type": "markdown",
   "id": "565173c2-0af0-407a-9689-f907fb7f74f2",
   "metadata": {},
   "source": [
    "## 8. The fields 'VEHICLE TYPE CODE 1' and 'VEHICLE TYPE CODE 2' represent the first two vehicles involved in the accident. Which combination of vehicles have the most number of accidents?"
   ]
  },
  {
   "cell_type": "code",
   "execution_count": 28,
   "id": "85fc05e3-7746-4a5a-85c1-6fb43d5c9879",
   "metadata": {},
   "outputs": [
    {
     "data": {
      "text/plain": [
       "'Sedan & Sedan'"
      ]
     },
     "execution_count": 28,
     "metadata": {},
     "output_type": "execute_result"
    }
   ],
   "source": [
    "# Create a new column that combines the 'VEHICLE TYPE CODE 1' and 'VEHICLE TYPE CODE 2' columns\n",
    "df['VEHICLE COMBINATION'] = df['VEHICLE TYPE CODE 1'] + \" & \" + df['VEHICLE TYPE CODE 2']\n",
    "\n",
    "# Count the number of accidents for each combination of vehicles\n",
    "vehicle_combination_counts = df['VEHICLE COMBINATION'].value_counts()\n",
    "\n",
    "# Get the combination of vehicles with the highest total number of accidents\n",
    "most_common_combination = vehicle_combination_counts.idxmax()\n",
    "\n",
    "most_common_combination"
   ]
  },
  {
   "cell_type": "markdown",
   "id": "b70ce12e-a4fa-432b-8251-8767ce7cef43",
   "metadata": {},
   "source": [
    "## 9. Among crashes where the contributing factor (CONTRIBUTING FACTOR VEHICLE 1) was alcohol involvement, what proportion resulted in a fatality?"
   ]
  },
  {
   "cell_type": "code",
   "execution_count": 29,
   "id": "d34b6cc8-cf66-45aa-8c99-10c274b121fc",
   "metadata": {},
   "outputs": [
    {
     "data": {
      "text/plain": [
       "0.46638345031400075"
      ]
     },
     "execution_count": 29,
     "metadata": {},
     "output_type": "execute_result"
    }
   ],
   "source": [
    "# Select only the rows where the contributing factor was Alcohol Involvement\n",
    "alcohol_involvement = df[df['CONTRIBUTING FACTOR VEHICLE 1'] == 'Alcohol Involvement']\n",
    "\n",
    "# Get the total number of these accidents\n",
    "total_alcohol_involvement = len(alcohol_involvement)\n",
    "\n",
    "# Select only the rows where at least one person was killed\n",
    "fatal_alcohol_involvement = alcohol_involvement[alcohol_involvement['NUMBER OF PERSONS KILLED'] >= 1]\n",
    "\n",
    "# Get the number of these accidents\n",
    "num_fatal_alcohol_involvement = len(fatal_alcohol_involvement)\n",
    "\n",
    "# Calculate the proportion of accidents that resulted in a fatality\n",
    "proportion_fatal = (num_fatal_alcohol_involvement / total_alcohol_involvement) * 100\n",
    "\n",
    "proportion_fatal"
   ]
  },
  {
   "cell_type": "markdown",
   "id": "65503722-e00b-485b-9634-7504b1348e7e",
   "metadata": {},
   "source": [
    "## 10. What proportion of crashes occur during the evening rush hour, defined as starting at 4 PM, and before 7 PM?"
   ]
  },
  {
   "cell_type": "code",
   "execution_count": 30,
   "id": "30ec3c0c-13ec-48fb-b89a-0eade5200966",
   "metadata": {},
   "outputs": [
    {
     "data": {
      "text/plain": [
       "20.514010935243242"
      ]
     },
     "execution_count": 30,
     "metadata": {},
     "output_type": "execute_result"
    }
   ],
   "source": [
    "# Convert 'CRASH DATE_CRASH TIME' to datetime format if it's not already\n",
    "df['CRASH DATE_CRASH TIME'] = pd.to_datetime(df['CRASH DATE_CRASH TIME'])\n",
    "\n",
    "# Select only the rows where the crash time is between 4 PM and 7 PM\n",
    "rush_hour_accidents = df[(df['CRASH DATE_CRASH TIME'].dt.hour >= 16) & (df['CRASH DATE_CRASH TIME'].dt.hour < 19)]\n",
    "\n",
    "# Get the number of these accidents\n",
    "num_rush_hour_accidents = len(rush_hour_accidents)\n",
    "\n",
    "# Get the total number of accidents\n",
    "total_accidents = len(df)\n",
    "\n",
    "# Calculate the proportion of accidents that occur during the evening rush hour\n",
    "proportion_rush_hour = (num_rush_hour_accidents / total_accidents) * 100\n",
    "\n",
    "proportion_rush_hour"
   ]
  },
  {
   "cell_type": "markdown",
   "id": "45370117-dc2f-4375-9361-fbc8149a3cd5",
   "metadata": {},
   "source": [
    "## 11. Among crashes involving motorcycles, what proportion resulted in injuries but no fatalities?"
   ]
  },
  {
   "cell_type": "code",
   "execution_count": 31,
   "id": "09280cb4-8094-4238-b90e-091198e57da6",
   "metadata": {},
   "outputs": [
    {
     "data": {
      "text/plain": [
       "50.04565018912221"
      ]
     },
     "execution_count": 31,
     "metadata": {},
     "output_type": "execute_result"
    }
   ],
   "source": [
    "# Select only the rows where a motorcycle was involved\n",
    "motorcycle_accidents = df[(df['VEHICLE TYPE CODE 1'] == 'MOTORCYCLE') | (df['VEHICLE TYPE CODE 2'] == 'MOTORCYCLE')]\n",
    "\n",
    "# Get the total number of these accidents\n",
    "total_motorcycle_accidents = len(motorcycle_accidents)\n",
    "\n",
    "# Select only the rows where there were injuries but no fatalities\n",
    "injury_accidents = motorcycle_accidents[(motorcycle_accidents['NUMBER OF PERSONS INJURED'] > 0) & (motorcycle_accidents['NUMBER OF PERSONS KILLED'] == 0)]\n",
    "\n",
    "# Get the number of these accidents\n",
    "num_injury_accidents = len(injury_accidents)\n",
    "\n",
    "# Calculate the proportion of accidents that resulted in injuries but no fatalities\n",
    "proportion_injury = (num_injury_accidents / total_motorcycle_accidents) * 100\n",
    "\n",
    "proportion_injury"
   ]
  },
  {
   "cell_type": "markdown",
   "id": "525a78a1-2e7d-4117-b0b4-1154dd673336",
   "metadata": {},
   "source": [
    "## 12. How many crashes involved bicycles as one of the vehicles?"
   ]
  },
  {
   "cell_type": "code",
   "execution_count": 32,
   "id": "a1d389ad-6ce8-4dc7-9977-d91d9ad98385",
   "metadata": {},
   "outputs": [
    {
     "data": {
      "text/plain": [
       "19108"
      ]
     },
     "execution_count": 32,
     "metadata": {},
     "output_type": "execute_result"
    }
   ],
   "source": [
    "# Select only the rows where a bicycle was involved\n",
    "bicycle_accidents = df[(df['VEHICLE TYPE CODE 1'] == 'BICYCLE') | (df['VEHICLE TYPE CODE 2'] == 'BICYCLE')]\n",
    "\n",
    "# Get the number of these accidents\n",
    "num_bicycle_accidents = len(bicycle_accidents)\n",
    "\n",
    "num_bicycle_accidents"
   ]
  }
 ],
 "metadata": {
  "kernelspec": {
   "display_name": "Python 3 (ipykernel)",
   "language": "python",
   "name": "python3"
  },
  "language_info": {
   "codemirror_mode": {
    "name": "ipython",
    "version": 3
   },
   "file_extension": ".py",
   "mimetype": "text/x-python",
   "name": "python",
   "nbconvert_exporter": "python",
   "pygments_lexer": "ipython3",
   "version": "3.11.6"
  }
 },
 "nbformat": 4,
 "nbformat_minor": 5
}
