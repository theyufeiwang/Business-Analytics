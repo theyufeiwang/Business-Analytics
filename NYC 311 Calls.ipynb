{
 "cells": [
  {
   "cell_type": "markdown",
   "id": "ec562a8a-c935-4438-a63d-65500c579d51",
   "metadata": {},
   "source": [
    "# NYC 311 Calls\n",
    "This project explores the comprehensive dataset of 311 Service Requests from 2010 to the present, maintained by New York City's open data initiative. The NYC 311 service acts as a vital communication channel between the city's residents and its various non-emergency services, addressing concerns ranging from noise complaints to road maintenance issues. This dataset is publicly available and regularly updated on the [NYC Open Data portal](https://data.cityofnewyork.us/Social-Services/311-Service-Requests-from-2010-to-Present/erm2-nwe9), complete with a data dictionary that elucidates its structure.\n",
    "\n",
    "In our analysis, we delve into the data, which spans up until August 4, 2023, with a particular focus on evaluating the dynamics and trends of the city's non-emergency requests. Our primary objectives in this project include:\n",
    "\n",
    "- **Daily Complaint Patterns**: Calculating the average number of daily complaints received in the year 2022.\n",
    "- **Peak Inquiry Analysis**: Identifying the single date with the maximum number of calls and determining the prevalent complaint types on that day.\n",
    "- **Seasonal Variations and Quietest Periods**: Analyzing monthly call patterns to discover the quietest month historically and performing ETS decomposition to observe seasonal trends on specific dates, such as December 25, 2020.\n",
    "- **Autocorrelation Study**: Examining the relationship between consecutive days' call volumes to understand dependencies and patterns.\n",
    "- **Forecasting**: Utilizing the Prophet library to predict future call volumes and assess the model accuracy with Root Mean Square Error (RMSE) metrics for the last 90 days' forecast.\n",
    "\n",
    "Through these analyses, this project aims to provide insights into the operational scale of NYC's 311 service and understand the temporal dynamics that could assist city planners and public service providers in optimizing resource allocation and improving service delivery."
   ]
  },
  {
   "cell_type": "code",
   "execution_count": 7,
   "id": "e39ca3bc-a2be-46f5-bebb-8cfab0becfa9",
   "metadata": {},
   "outputs": [],
   "source": [
    "import pandas as pd\n",
    "import statsmodels.api as sm\n",
    "from prophet import Prophet\n",
    "from prophet.diagnostics import performance_metrics\n",
    "from sklearn.metrics import mean_squared_error\n",
    "import pandas as pd\n",
    "import numpy as np"
   ]
  },
  {
   "cell_type": "code",
   "execution_count": 8,
   "id": "e19e5c48-ef66-46c4-a440-1ab0f2b71a4a",
   "metadata": {},
   "outputs": [],
   "source": [
    "df = pd.read_pickle('shared/Project-3_NYC_311_Calls.pkl')\n",
    "# Make the index as a proper DatetimeIndex\n",
    "df = df.set_index(pd.DatetimeIndex(df['Created Date']))\n",
    "# Delete the Created Date column\n",
    "del df['Created Date']"
   ]
  },
  {
   "cell_type": "code",
   "execution_count": 9,
   "id": "13d36d74-d6bf-4500-976c-ff875925aa7a",
   "metadata": {},
   "outputs": [
    {
     "data": {
      "text/html": [
       "<div>\n",
       "<style scoped>\n",
       "    .dataframe tbody tr th:only-of-type {\n",
       "        vertical-align: middle;\n",
       "    }\n",
       "\n",
       "    .dataframe tbody tr th {\n",
       "        vertical-align: top;\n",
       "    }\n",
       "\n",
       "    .dataframe thead th {\n",
       "        text-align: right;\n",
       "    }\n",
       "</style>\n",
       "<table border=\"1\" class=\"dataframe\">\n",
       "  <thead>\n",
       "    <tr style=\"text-align: right;\">\n",
       "      <th></th>\n",
       "      <th>Unique Key</th>\n",
       "      <th>Agency</th>\n",
       "      <th>Agency Name</th>\n",
       "      <th>Complaint Type</th>\n",
       "      <th>Descriptor</th>\n",
       "      <th>Location Type</th>\n",
       "      <th>Incident Zip</th>\n",
       "      <th>City</th>\n",
       "      <th>Resolution Description</th>\n",
       "      <th>Borough</th>\n",
       "      <th>Open Data Channel Type</th>\n",
       "    </tr>\n",
       "    <tr>\n",
       "      <th>Created Date</th>\n",
       "      <th></th>\n",
       "      <th></th>\n",
       "      <th></th>\n",
       "      <th></th>\n",
       "      <th></th>\n",
       "      <th></th>\n",
       "      <th></th>\n",
       "      <th></th>\n",
       "      <th></th>\n",
       "      <th></th>\n",
       "      <th></th>\n",
       "    </tr>\n",
       "  </thead>\n",
       "  <tbody>\n",
       "    <tr>\n",
       "      <th>2011-04-06 00:00:00</th>\n",
       "      <td>20184537</td>\n",
       "      <td>HPD</td>\n",
       "      <td>Department of Housing Preservation and Develop...</td>\n",
       "      <td>HEATING</td>\n",
       "      <td>HEAT</td>\n",
       "      <td>RESIDENTIAL BUILDING</td>\n",
       "      <td>10002.0</td>\n",
       "      <td>NEW YORK</td>\n",
       "      <td>More than one complaint was received for this ...</td>\n",
       "      <td>MANHATTAN</td>\n",
       "      <td>UNKNOWN</td>\n",
       "    </tr>\n",
       "    <tr>\n",
       "      <th>2011-04-06 00:00:00</th>\n",
       "      <td>20184538</td>\n",
       "      <td>HPD</td>\n",
       "      <td>Department of Housing Preservation and Develop...</td>\n",
       "      <td>GENERAL CONSTRUCTION</td>\n",
       "      <td>WINDOWS</td>\n",
       "      <td>RESIDENTIAL BUILDING</td>\n",
       "      <td>11236.0</td>\n",
       "      <td>BROOKLYN</td>\n",
       "      <td>The Department of Housing Preservation and Dev...</td>\n",
       "      <td>BROOKLYN</td>\n",
       "      <td>UNKNOWN</td>\n",
       "    </tr>\n",
       "    <tr>\n",
       "      <th>2011-04-06 00:00:00</th>\n",
       "      <td>20184539</td>\n",
       "      <td>HPD</td>\n",
       "      <td>Department of Housing Preservation and Develop...</td>\n",
       "      <td>PAINT - PLASTER</td>\n",
       "      <td>WALLS</td>\n",
       "      <td>RESIDENTIAL BUILDING</td>\n",
       "      <td>10460.0</td>\n",
       "      <td>BRONX</td>\n",
       "      <td>The Department of Housing Preservation and Dev...</td>\n",
       "      <td>BRONX</td>\n",
       "      <td>UNKNOWN</td>\n",
       "    </tr>\n",
       "    <tr>\n",
       "      <th>2022-07-08 11:14:43</th>\n",
       "      <td>54732265</td>\n",
       "      <td>DSNY</td>\n",
       "      <td>Department of Sanitation</td>\n",
       "      <td>Dirty Condition</td>\n",
       "      <td>Trash</td>\n",
       "      <td>Sidewalk</td>\n",
       "      <td>10467.0</td>\n",
       "      <td>BRONX</td>\n",
       "      <td>The Department of Sanitation investigated this...</td>\n",
       "      <td>BRONX</td>\n",
       "      <td>PHONE</td>\n",
       "    </tr>\n",
       "    <tr>\n",
       "      <th>2011-04-06 00:00:00</th>\n",
       "      <td>20184540</td>\n",
       "      <td>HPD</td>\n",
       "      <td>Department of Housing Preservation and Develop...</td>\n",
       "      <td>NONCONST</td>\n",
       "      <td>VERMIN</td>\n",
       "      <td>RESIDENTIAL BUILDING</td>\n",
       "      <td>10460.0</td>\n",
       "      <td>BRONX</td>\n",
       "      <td>The Department of Housing Preservation and Dev...</td>\n",
       "      <td>BRONX</td>\n",
       "      <td>UNKNOWN</td>\n",
       "    </tr>\n",
       "    <tr>\n",
       "      <th>...</th>\n",
       "      <td>...</td>\n",
       "      <td>...</td>\n",
       "      <td>...</td>\n",
       "      <td>...</td>\n",
       "      <td>...</td>\n",
       "      <td>...</td>\n",
       "      <td>...</td>\n",
       "      <td>...</td>\n",
       "      <td>...</td>\n",
       "      <td>...</td>\n",
       "      <td>...</td>\n",
       "    </tr>\n",
       "    <tr>\n",
       "      <th>2011-04-06 00:00:00</th>\n",
       "      <td>20184532</td>\n",
       "      <td>HPD</td>\n",
       "      <td>Department of Housing Preservation and Develop...</td>\n",
       "      <td>HEATING</td>\n",
       "      <td>HEAT</td>\n",
       "      <td>RESIDENTIAL BUILDING</td>\n",
       "      <td>10468</td>\n",
       "      <td>BRONX</td>\n",
       "      <td>The Department of Housing Preservation and Dev...</td>\n",
       "      <td>BRONX</td>\n",
       "      <td>UNKNOWN</td>\n",
       "    </tr>\n",
       "    <tr>\n",
       "      <th>2011-04-06 00:00:00</th>\n",
       "      <td>20184533</td>\n",
       "      <td>HPD</td>\n",
       "      <td>Department of Housing Preservation and Develop...</td>\n",
       "      <td>HEATING</td>\n",
       "      <td>HEAT</td>\n",
       "      <td>RESIDENTIAL BUILDING</td>\n",
       "      <td>10018</td>\n",
       "      <td>NEW YORK</td>\n",
       "      <td>More than one complaint was received for this ...</td>\n",
       "      <td>MANHATTAN</td>\n",
       "      <td>UNKNOWN</td>\n",
       "    </tr>\n",
       "    <tr>\n",
       "      <th>2011-04-06 00:00:00</th>\n",
       "      <td>20184534</td>\n",
       "      <td>HPD</td>\n",
       "      <td>Department of Housing Preservation and Develop...</td>\n",
       "      <td>GENERAL CONSTRUCTION</td>\n",
       "      <td>STAIRS</td>\n",
       "      <td>RESIDENTIAL BUILDING</td>\n",
       "      <td>10460</td>\n",
       "      <td>BRONX</td>\n",
       "      <td>The Department of Housing Preservation and Dev...</td>\n",
       "      <td>BRONX</td>\n",
       "      <td>UNKNOWN</td>\n",
       "    </tr>\n",
       "    <tr>\n",
       "      <th>2011-04-06 00:00:00</th>\n",
       "      <td>20184535</td>\n",
       "      <td>HPD</td>\n",
       "      <td>Department of Housing Preservation and Develop...</td>\n",
       "      <td>GENERAL CONSTRUCTION</td>\n",
       "      <td>GAS</td>\n",
       "      <td>RESIDENTIAL BUILDING</td>\n",
       "      <td>11236</td>\n",
       "      <td>BROOKLYN</td>\n",
       "      <td>The Department of Housing Preservation and Dev...</td>\n",
       "      <td>BROOKLYN</td>\n",
       "      <td>UNKNOWN</td>\n",
       "    </tr>\n",
       "    <tr>\n",
       "      <th>2011-04-06 00:00:00</th>\n",
       "      <td>20184536</td>\n",
       "      <td>HPD</td>\n",
       "      <td>Department of Housing Preservation and Develop...</td>\n",
       "      <td>PLUMBING</td>\n",
       "      <td>WATER-LEAKS</td>\n",
       "      <td>RESIDENTIAL BUILDING</td>\n",
       "      <td>11236</td>\n",
       "      <td>BROOKLYN</td>\n",
       "      <td>The Department of Housing Preservation and Dev...</td>\n",
       "      <td>BROOKLYN</td>\n",
       "      <td>UNKNOWN</td>\n",
       "    </tr>\n",
       "  </tbody>\n",
       "</table>\n",
       "<p>33780977 rows × 11 columns</p>\n",
       "</div>"
      ],
      "text/plain": [
       "                     Unique Key Agency  \\\n",
       "Created Date                             \n",
       "2011-04-06 00:00:00    20184537    HPD   \n",
       "2011-04-06 00:00:00    20184538    HPD   \n",
       "2011-04-06 00:00:00    20184539    HPD   \n",
       "2022-07-08 11:14:43    54732265   DSNY   \n",
       "2011-04-06 00:00:00    20184540    HPD   \n",
       "...                         ...    ...   \n",
       "2011-04-06 00:00:00    20184532    HPD   \n",
       "2011-04-06 00:00:00    20184533    HPD   \n",
       "2011-04-06 00:00:00    20184534    HPD   \n",
       "2011-04-06 00:00:00    20184535    HPD   \n",
       "2011-04-06 00:00:00    20184536    HPD   \n",
       "\n",
       "                                                           Agency Name  \\\n",
       "Created Date                                                             \n",
       "2011-04-06 00:00:00  Department of Housing Preservation and Develop...   \n",
       "2011-04-06 00:00:00  Department of Housing Preservation and Develop...   \n",
       "2011-04-06 00:00:00  Department of Housing Preservation and Develop...   \n",
       "2022-07-08 11:14:43                           Department of Sanitation   \n",
       "2011-04-06 00:00:00  Department of Housing Preservation and Develop...   \n",
       "...                                                                ...   \n",
       "2011-04-06 00:00:00  Department of Housing Preservation and Develop...   \n",
       "2011-04-06 00:00:00  Department of Housing Preservation and Develop...   \n",
       "2011-04-06 00:00:00  Department of Housing Preservation and Develop...   \n",
       "2011-04-06 00:00:00  Department of Housing Preservation and Develop...   \n",
       "2011-04-06 00:00:00  Department of Housing Preservation and Develop...   \n",
       "\n",
       "                           Complaint Type   Descriptor         Location Type  \\\n",
       "Created Date                                                                   \n",
       "2011-04-06 00:00:00               HEATING         HEAT  RESIDENTIAL BUILDING   \n",
       "2011-04-06 00:00:00  GENERAL CONSTRUCTION      WINDOWS  RESIDENTIAL BUILDING   \n",
       "2011-04-06 00:00:00       PAINT - PLASTER        WALLS  RESIDENTIAL BUILDING   \n",
       "2022-07-08 11:14:43       Dirty Condition        Trash              Sidewalk   \n",
       "2011-04-06 00:00:00              NONCONST       VERMIN  RESIDENTIAL BUILDING   \n",
       "...                                   ...          ...                   ...   \n",
       "2011-04-06 00:00:00               HEATING         HEAT  RESIDENTIAL BUILDING   \n",
       "2011-04-06 00:00:00               HEATING         HEAT  RESIDENTIAL BUILDING   \n",
       "2011-04-06 00:00:00  GENERAL CONSTRUCTION       STAIRS  RESIDENTIAL BUILDING   \n",
       "2011-04-06 00:00:00  GENERAL CONSTRUCTION          GAS  RESIDENTIAL BUILDING   \n",
       "2011-04-06 00:00:00              PLUMBING  WATER-LEAKS  RESIDENTIAL BUILDING   \n",
       "\n",
       "                    Incident Zip      City  \\\n",
       "Created Date                                 \n",
       "2011-04-06 00:00:00      10002.0  NEW YORK   \n",
       "2011-04-06 00:00:00      11236.0  BROOKLYN   \n",
       "2011-04-06 00:00:00      10460.0     BRONX   \n",
       "2022-07-08 11:14:43      10467.0     BRONX   \n",
       "2011-04-06 00:00:00      10460.0     BRONX   \n",
       "...                          ...       ...   \n",
       "2011-04-06 00:00:00        10468     BRONX   \n",
       "2011-04-06 00:00:00        10018  NEW YORK   \n",
       "2011-04-06 00:00:00        10460     BRONX   \n",
       "2011-04-06 00:00:00        11236  BROOKLYN   \n",
       "2011-04-06 00:00:00        11236  BROOKLYN   \n",
       "\n",
       "                                                Resolution Description  \\\n",
       "Created Date                                                             \n",
       "2011-04-06 00:00:00  More than one complaint was received for this ...   \n",
       "2011-04-06 00:00:00  The Department of Housing Preservation and Dev...   \n",
       "2011-04-06 00:00:00  The Department of Housing Preservation and Dev...   \n",
       "2022-07-08 11:14:43  The Department of Sanitation investigated this...   \n",
       "2011-04-06 00:00:00  The Department of Housing Preservation and Dev...   \n",
       "...                                                                ...   \n",
       "2011-04-06 00:00:00  The Department of Housing Preservation and Dev...   \n",
       "2011-04-06 00:00:00  More than one complaint was received for this ...   \n",
       "2011-04-06 00:00:00  The Department of Housing Preservation and Dev...   \n",
       "2011-04-06 00:00:00  The Department of Housing Preservation and Dev...   \n",
       "2011-04-06 00:00:00  The Department of Housing Preservation and Dev...   \n",
       "\n",
       "                       Borough Open Data Channel Type  \n",
       "Created Date                                           \n",
       "2011-04-06 00:00:00  MANHATTAN                UNKNOWN  \n",
       "2011-04-06 00:00:00   BROOKLYN                UNKNOWN  \n",
       "2011-04-06 00:00:00      BRONX                UNKNOWN  \n",
       "2022-07-08 11:14:43      BRONX                  PHONE  \n",
       "2011-04-06 00:00:00      BRONX                UNKNOWN  \n",
       "...                        ...                    ...  \n",
       "2011-04-06 00:00:00      BRONX                UNKNOWN  \n",
       "2011-04-06 00:00:00  MANHATTAN                UNKNOWN  \n",
       "2011-04-06 00:00:00      BRONX                UNKNOWN  \n",
       "2011-04-06 00:00:00   BROOKLYN                UNKNOWN  \n",
       "2011-04-06 00:00:00   BROOKLYN                UNKNOWN  \n",
       "\n",
       "[33780977 rows x 11 columns]"
      ]
     },
     "execution_count": 9,
     "metadata": {},
     "output_type": "execute_result"
    }
   ],
   "source": [
    "df"
   ]
  },
  {
   "cell_type": "markdown",
   "id": "d3545c9a-3191-413a-a9be-d8776d469557",
   "metadata": {},
   "source": [
    "## 1. What is the average number of daily complaints received in 2022?"
   ]
  },
  {
   "cell_type": "code",
   "execution_count": 11,
   "id": "713a5ae8-9aba-42c7-9561-5ea42fb444d9",
   "metadata": {},
   "outputs": [
    {
     "name": "stdout",
     "output_type": "stream",
     "text": [
      "The average number of daily complaints received in 2022: 8684.320547945206\n"
     ]
    }
   ],
   "source": [
    "# Filter data for the year 2022\n",
    "df_2022 = df.loc['2022']\n",
    "\n",
    "# Count daily complaints in 2022\n",
    "daily_calls_2022 = df_2022['Unique Key'].resample('D').count()\n",
    "\n",
    "# Calculate average daily complaints in 2022\n",
    "average_daily_calls_2022 = daily_calls_2022.mean()\n",
    "\n",
    "print(\"The average number of daily complaints received in 2022:\", average_daily_calls_2022)"
   ]
  },
  {
   "cell_type": "markdown",
   "id": "0ceff335-3125-43b2-82db-5b25c8faab16",
   "metadata": {},
   "source": [
    "## 2. On which single date were the maximum number of calls received?\n"
   ]
  },
  {
   "cell_type": "code",
   "execution_count": 12,
   "id": "5b816eb7-8602-43dc-a5bf-e89fe97d601a",
   "metadata": {},
   "outputs": [
    {
     "name": "stdout",
     "output_type": "stream",
     "text": [
      "The date with the maximum number of calls received: 2020-08-04 00:00:00\n",
      "Number of calls: 24415\n"
     ]
    }
   ],
   "source": [
    "# Count daily complaints for all data\n",
    "daily_calls = df['Unique Key'].resample('D').count()\n",
    "\n",
    "# Find the date with the maximum number of calls received\n",
    "max_calls_date = daily_calls.idxmax()\n",
    "print(\"The date with the maximum number of calls received:\", max_calls_date)\n",
    "\n",
    "# More data Exploration: Find the number of calls on that day\n",
    "max_calls = daily_calls.max()\n",
    "print(\"Number of calls:\", max_calls)"
   ]
  },
  {
   "cell_type": "markdown",
   "id": "4929f28d-cc46-4d09-8f96-50e1d9107e0e",
   "metadata": {},
   "source": [
    "## 3. On the date the maximum number of calls were received, what was the most important complaint type?"
   ]
  },
  {
   "cell_type": "code",
   "execution_count": 13,
   "id": "07969280-fb9b-46fd-b8a2-6c8a42967964",
   "metadata": {},
   "outputs": [
    {
     "name": "stdout",
     "output_type": "stream",
     "text": [
      "The most important complaint type: Damaged Tree\n"
     ]
    }
   ],
   "source": [
    "max_calls_data = df.loc[max_calls_date.strftime('%Y-%m-%d')]\n",
    "\n",
    "# Find the most important complaint type\n",
    "most_important_complaint = max_calls_data['Complaint Type'].value_counts().idxmax()\n",
    "\n",
    "print(\"The most important complaint type:\", most_important_complaint)"
   ]
  },
  {
   "cell_type": "markdown",
   "id": "c41fc7d7-9656-4f32-91d8-1aafb1201790",
   "metadata": {},
   "source": [
    "## 4. Quietest month: Group the data by months, and identify the month that historically has the fewest number of calls."
   ]
  },
  {
   "cell_type": "code",
   "execution_count": 14,
   "id": "bc00569c-69db-43b7-82a0-2fdb9be53925",
   "metadata": {},
   "outputs": [
    {
     "name": "stdout",
     "output_type": "stream",
     "text": [
      "The historically quietest month: 12\n"
     ]
    }
   ],
   "source": [
    "# Group the data by months\n",
    "monthly_calls = df['Unique Key'].resample('ME').count()\n",
    "monthly_calls.index = monthly_calls.index.month\n",
    "\n",
    "# Get total monthly calls\n",
    "total_monthly_calls = monthly_calls.groupby(monthly_calls.index).sum()\n",
    "\n",
    "# Find the month with the fewest calls\n",
    "quietest_month = total_monthly_calls.idxmin()\n",
    "\n",
    "print(\"The historically quietest month:\", quietest_month)"
   ]
  },
  {
   "cell_type": "markdown",
   "id": "6fa0d969-c584-43cf-a648-9abd0ff81d9f",
   "metadata": {},
   "source": [
    "## 5. Resample your time series to a daily frequency.  Perform ETS decomposition based on an additive model.  What is the value of the seasonal component on 2020-12-25 (rounded to the nearest integer)?"
   ]
  },
  {
   "cell_type": "code",
   "execution_count": 15,
   "id": "3e7ef194-84e3-4830-8491-2f5bade449ae",
   "metadata": {},
   "outputs": [
    {
     "name": "stdout",
     "output_type": "stream",
     "text": [
      "The seasonal component on 2020-12-25: 183\n"
     ]
    }
   ],
   "source": [
    "# Perform ETS decomposition\n",
    "decomposition = sm.tsa.seasonal_decompose(daily_calls, model='additive')\n",
    "\n",
    "# Get the value of the seasonal component on 2020-12-25\n",
    "seasonal = decomposition.seasonal\n",
    "seasonal_value_2020_12_25 = round(seasonal.loc['2020-12-25'])\n",
    "\n",
    "print(\"The seasonal component on 2020-12-25:\", seasonal_value_2020_12_25)"
   ]
  },
  {
   "cell_type": "markdown",
   "id": "c616a161-576b-4c5b-a1c4-74a2e50d1532",
   "metadata": {},
   "source": [
    "## 6. Calculate the autocorrelation of the number of daily calls with the number of calls the day prior, ie lag of 1.  (Use the daily series)."
   ]
  },
  {
   "cell_type": "code",
   "execution_count": 16,
   "id": "929cbbc0-2130-48de-bd39-5b576037f78d",
   "metadata": {},
   "outputs": [
    {
     "name": "stdout",
     "output_type": "stream",
     "text": [
      "The autocorrelation of the number of daily calls with the number of calls the day prior: 0.7517059728398577\n"
     ]
    }
   ],
   "source": [
    "# Calculate the autocorrelation of the number of daily calls with a lag of 1 day\n",
    "autocorrelation_lag_1 = daily_calls.autocorr(lag=1)\n",
    "\n",
    "print(\"The autocorrelation of the number of daily calls with the number of calls the day prior:\", autocorrelation_lag_1)"
   ]
  },
  {
   "cell_type": "markdown",
   "id": "890cf1ee-ddc2-4dc3-9270-b3a92ddf6fbd",
   "metadata": {},
   "source": [
    "## 7. Forecast the daily series with a test set of 90 days using the Prophet library.  What is your RMSE on your test set?"
   ]
  },
  {
   "cell_type": "code",
   "execution_count": 17,
   "id": "00ebab08-9371-40d2-a6a4-3c15fa70fd3b",
   "metadata": {},
   "outputs": [
    {
     "name": "stderr",
     "output_type": "stream",
     "text": [
      "16:50:05 - cmdstanpy - INFO - Chain [1] start processing\n",
      "16:50:07 - cmdstanpy - INFO - Chain [1] done processing\n"
     ]
    },
    {
     "name": "stdout",
     "output_type": "stream",
     "text": [
      "The RMSE on the test set: 1233.7823321393885\n"
     ]
    }
   ],
   "source": [
    "# Convert data for Prophet\n",
    "df_prophet = daily_calls.reset_index()\n",
    "df_prophet.columns = ['ds', 'y']\n",
    "\n",
    "# Training data except last 90 days\n",
    "train = df_prophet.iloc[:-90]\n",
    "# Last 90 days for testing\n",
    "test = df_prophet.iloc[-90:]\n",
    "\n",
    "# Set up and train Prophet model\n",
    "model = Prophet()\n",
    "model.fit(train)\n",
    "\n",
    "# Forecast future dates\n",
    "future = model.make_future_dataframe(periods=90)\n",
    "forecast = model.predict(future)\n",
    "\n",
    "# Filter out the predictions for the test set\n",
    "forecasted_values = forecast[-90:]['yhat']\n",
    "\n",
    "# Calculate RMSE\n",
    "rmse = np.sqrt(mean_squared_error(test['y'], forecasted_values))\n",
    "print(\"The RMSE on the test set:\", rmse)"
   ]
  }
 ],
 "metadata": {
  "kernelspec": {
   "display_name": "Python [conda env:mggy8413v2]",
   "language": "python",
   "name": "conda-env-mggy8413v2-py"
  },
  "language_info": {
   "codemirror_mode": {
    "name": "ipython",
    "version": 3
   },
   "file_extension": ".py",
   "mimetype": "text/x-python",
   "name": "python",
   "nbconvert_exporter": "python",
   "pygments_lexer": "ipython3",
   "version": "3.11.7"
  }
 },
 "nbformat": 4,
 "nbformat_minor": 5
}
